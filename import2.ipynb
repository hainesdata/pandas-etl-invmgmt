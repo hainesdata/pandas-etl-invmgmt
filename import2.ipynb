{
 "cells": [
  {
   "cell_type": "markdown",
   "metadata": {
    "collapsed": true,
    "pycharm": {
     "name": "#%% md\n"
    }
   },
   "source": [
    "# Inventory Data Transformation\n",
    "Note: Some columns may be automatically omitted from the notebook for display purposes, but still exist in the table itself.\n",
    "## Import data\n",
    "Data from CSVs is loaded into working dataframes."
   ]
  },
  {
   "cell_type": "code",
   "execution_count": 86,
   "outputs": [
    {
     "data": {
      "text/plain": "  PART NUMBER                                   PART DESCRIPTION Unnamed: 2  \\\n0     XXX-001                       SHEET - 40/60 8.5 X 11 X .15    plastic   \n1     XXX-002   SHEET - 40/60 CLEAR 8 1/2 X 11 X .095 DO NOT USE    plastic   \n2     XXX-003    SHEET - 40/60 CLEAR 8.5 X 11 7/8 X .09 (G23453)    plastic   \n3     XXX-004       SHEET - 25 X 36.25 X .177 CLEAR DURAYL 40/60    plastic   \n4     XXX-005  SHEET - 40/60 CLEAR 32 X 35 1/4 X .077 (OBSOLETE)    plastic   \n\n  closure  \n0     NaN  \n1     NaN  \n2     NaN  \n3     NaN  \n4     NaN  ",
      "text/html": "<div>\n<style scoped>\n    .dataframe tbody tr th:only-of-type {\n        vertical-align: middle;\n    }\n\n    .dataframe tbody tr th {\n        vertical-align: top;\n    }\n\n    .dataframe thead th {\n        text-align: right;\n    }\n</style>\n<table border=\"1\" class=\"dataframe\">\n  <thead>\n    <tr style=\"text-align: right;\">\n      <th></th>\n      <th>PART NUMBER</th>\n      <th>PART DESCRIPTION</th>\n      <th>Unnamed: 2</th>\n      <th>closure</th>\n    </tr>\n  </thead>\n  <tbody>\n    <tr>\n      <th>0</th>\n      <td>XXX-001</td>\n      <td>SHEET - 40/60 8.5 X 11 X .15</td>\n      <td>plastic</td>\n      <td>NaN</td>\n    </tr>\n    <tr>\n      <th>1</th>\n      <td>XXX-002</td>\n      <td>SHEET - 40/60 CLEAR 8 1/2 X 11 X .095 DO NOT USE</td>\n      <td>plastic</td>\n      <td>NaN</td>\n    </tr>\n    <tr>\n      <th>2</th>\n      <td>XXX-003</td>\n      <td>SHEET - 40/60 CLEAR 8.5 X 11 7/8 X .09 (G23453)</td>\n      <td>plastic</td>\n      <td>NaN</td>\n    </tr>\n    <tr>\n      <th>3</th>\n      <td>XXX-004</td>\n      <td>SHEET - 25 X 36.25 X .177 CLEAR DURAYL 40/60</td>\n      <td>plastic</td>\n      <td>NaN</td>\n    </tr>\n    <tr>\n      <th>4</th>\n      <td>XXX-005</td>\n      <td>SHEET - 40/60 CLEAR 32 X 35 1/4 X .077 (OBSOLETE)</td>\n      <td>plastic</td>\n      <td>NaN</td>\n    </tr>\n  </tbody>\n</table>\n</div>"
     },
     "execution_count": 86,
     "metadata": {},
     "output_type": "execute_result"
    }
   ],
   "source": [
    "import pandas as pd\n",
    "import glob\n",
    "import os\n",
    "\n",
    "data = pd.read_csv('data/fake/001_edited.csv')\n",
    "cost_data = pd.read_csv('data/fake/Costs_edited.csv', low_memory=False)\n",
    "data.head()"
   ],
   "metadata": {
    "collapsed": false,
    "pycharm": {
     "name": "#%%\n"
    }
   }
  },
  {
   "cell_type": "markdown",
   "source": [
    "## Clean data\n",
    "Any rows containing product numbers without an assigned product are removed. For example, a PartNumber without a corresponding description is removed, since there is no associated part. Additionally, rows containing any part numbers marked as 'RESERVED' or 'DO NOT USE' were removed."
   ],
   "metadata": {
    "collapsed": false,
    "pycharm": {
     "name": "#%% md\n"
    }
   }
  },
  {
   "cell_type": "code",
   "execution_count": 87,
   "outputs": [
    {
     "name": "stdout",
     "output_type": "stream",
     "text": [
      "Number of rows in data before clean:\n",
      "2538\n",
      "and after clean:\n",
      "2460\n"
     ]
    }
   ],
   "source": [
    "print('Number of rows in data before clean:')\n",
    "print(len(data))\n",
    "\n",
    "# Remove junk rows\n",
    "for index, row in data.iterrows():\n",
    "    no_part_description = type(row['PART DESCRIPTION']) == float\n",
    "    no_part_number = type(row['PART NUMBER']) == float and type(row['Unnamed: 2']) == float\n",
    "    if no_part_description:\n",
    "        data = data.drop([index])\n",
    "        continue\n",
    "    empty_description = len(row['PART DESCRIPTION']) < 2\n",
    "    invalid_description = ('RESERVED' in row['PART DESCRIPTION'] or 'DO NOT USE' in row['PART DESCRIPTION']) and len(\n",
    "        row['PART DESCRIPTION']) <= 11 or 'RESERVED BOR HAULER 4 X 4 BALL CAGE PARTS' in row['PART DESCRIPTION']\n",
    "    if no_part_number or empty_description or invalid_description:\n",
    "        data = data.drop([index])\n",
    "\n",
    "print('and after clean:')\n",
    "print(len(data))"
   ],
   "metadata": {
    "collapsed": false,
    "pycharm": {
     "name": "#%%\n"
    }
   }
  },
  {
   "cell_type": "markdown",
   "source": [
    "## Create output table\n",
    "The output table containing the 49 desired columns is created. No data has been moved into the table at this point."
   ],
   "metadata": {
    "collapsed": false,
    "pycharm": {
     "name": "#%% md\n"
    }
   }
  },
  {
   "cell_type": "code",
   "execution_count": 88,
   "outputs": [
    {
     "data": {
      "text/plain": "Empty DataFrame\nColumns: [PartNumber, PartDescription, PartDetails, UOM, UPC, PartTypeID, Active, StdCost, Tracks-Lot Number, Tracks-Revision Level, Tracks-Expiration Date, Tracks-Serial Number, AssetAccount, COGSAccount, AdjustmentAccount, ScrapAccount, VarianceAccount, ABCCode, Weight, WeightUOM, Width, Height, Len, SizeUOM, PartURL, PartRevision, CF-Custom, ProductNumber, ProductDescription, ProductDetails, Price, ProductSKU, ProductUPC, ProductActive, ProductTaxable, ProductSOItemTypeID, IncomeAccount, ProductWeight, ProductWeightUOM, ProductWidth, ProductHeight, ProductLength, ProductSizeUOM, Vendor, DefaultVendor, VendorPartNumber, Cost, VendorUOM, CFP-Custom]\nIndex: []\n\n[0 rows x 49 columns]",
      "text/html": "<div>\n<style scoped>\n    .dataframe tbody tr th:only-of-type {\n        vertical-align: middle;\n    }\n\n    .dataframe tbody tr th {\n        vertical-align: top;\n    }\n\n    .dataframe thead th {\n        text-align: right;\n    }\n</style>\n<table border=\"1\" class=\"dataframe\">\n  <thead>\n    <tr style=\"text-align: right;\">\n      <th></th>\n      <th>PartNumber</th>\n      <th>PartDescription</th>\n      <th>PartDetails</th>\n      <th>UOM</th>\n      <th>UPC</th>\n      <th>PartTypeID</th>\n      <th>Active</th>\n      <th>StdCost</th>\n      <th>Tracks-Lot Number</th>\n      <th>Tracks-Revision Level</th>\n      <th>...</th>\n      <th>ProductWidth</th>\n      <th>ProductHeight</th>\n      <th>ProductLength</th>\n      <th>ProductSizeUOM</th>\n      <th>Vendor</th>\n      <th>DefaultVendor</th>\n      <th>VendorPartNumber</th>\n      <th>Cost</th>\n      <th>VendorUOM</th>\n      <th>CFP-Custom</th>\n    </tr>\n  </thead>\n  <tbody>\n  </tbody>\n</table>\n<p>0 rows × 49 columns</p>\n</div>"
     },
     "execution_count": 88,
     "metadata": {},
     "output_type": "execute_result"
    }
   ],
   "source": [
    "data_new = pd.DataFrame(\n",
    "    columns=['PartNumber', 'PartDescription', 'PartDetails', 'UOM', 'UPC', 'PartTypeID', 'Active', 'StdCost',\n",
    "             'Tracks-Lot Number', 'Tracks-Revision Level', 'Tracks-Expiration Date', 'Tracks-Serial Number',\n",
    "             'AssetAccount', 'COGSAccount', 'AdjustmentAccount', 'ScrapAccount', 'VarianceAccount', 'ABCCode', 'Weight',\n",
    "             'WeightUOM', 'Width', 'Height', 'Len', 'SizeUOM', 'PartURL', 'PartRevision', 'CF-Custom', 'ProductNumber',\n",
    "             'ProductDescription', 'ProductDetails', 'Price', 'ProductSKU', 'ProductUPC', 'ProductActive',\n",
    "             'ProductTaxable', 'ProductSOItemTypeID', 'IncomeAccount', 'ProductWeight', 'ProductWeightUOM',\n",
    "             'ProductWidth', 'ProductHeight', 'ProductLength', 'ProductSizeUOM', 'Vendor', 'DefaultVendor',\n",
    "             'VendorPartNumber', 'Cost', 'VendorUOM', 'CFP-Custom'])\n",
    "data_new.head()"
   ],
   "metadata": {
    "collapsed": false,
    "pycharm": {
     "name": "#%%\n"
    }
   }
  },
  {
   "cell_type": "markdown",
   "source": [
    "## Migrate data\n",
    "### The easy stuff is migrated first:\n",
    "* Product numbers and descriptions\n",
    "* Data consistent across all rows:\n",
    "    * UOM\n",
    "    * Tracks-Expiration Date"
   ],
   "metadata": {
    "collapsed": false,
    "pycharm": {
     "name": "#%% md\n"
    }
   }
  },
  {
   "cell_type": "code",
   "execution_count": 89,
   "outputs": [
    {
     "data": {
      "text/plain": "  PartNumber ProductNumber UOM  Tracks-Expiration Date  \\\n0    XXX-001       XXX-001  ea                   False   \n1    XXX-002       XXX-002  ea                   False   \n2    XXX-003       XXX-003  ea                   False   \n3    XXX-004       XXX-004  ea                   False   \n4    XXX-005       XXX-005  ea                   False   \n\n                                     PartDescription PartDetails  \n0                       SHEET - 40/60 8.5 X 11 X .15     plastic  \n1   SHEET - 40/60 CLEAR 8 1/2 X 11 X .095 DO NOT USE     plastic  \n2    SHEET - 40/60 CLEAR 8.5 X 11 7/8 X .09 (G23453)     plastic  \n3       SHEET - 25 X 36.25 X .177 CLEAR DURAYL 40/60     plastic  \n4  SHEET - 40/60 CLEAR 32 X 35 1/4 X .077 (OBSOLETE)     plastic  ",
      "text/html": "<div>\n<style scoped>\n    .dataframe tbody tr th:only-of-type {\n        vertical-align: middle;\n    }\n\n    .dataframe tbody tr th {\n        vertical-align: top;\n    }\n\n    .dataframe thead th {\n        text-align: right;\n    }\n</style>\n<table border=\"1\" class=\"dataframe\">\n  <thead>\n    <tr style=\"text-align: right;\">\n      <th></th>\n      <th>PartNumber</th>\n      <th>ProductNumber</th>\n      <th>UOM</th>\n      <th>Tracks-Expiration Date</th>\n      <th>PartDescription</th>\n      <th>PartDetails</th>\n    </tr>\n  </thead>\n  <tbody>\n    <tr>\n      <th>0</th>\n      <td>XXX-001</td>\n      <td>XXX-001</td>\n      <td>ea</td>\n      <td>False</td>\n      <td>SHEET - 40/60 8.5 X 11 X .15</td>\n      <td>plastic</td>\n    </tr>\n    <tr>\n      <th>1</th>\n      <td>XXX-002</td>\n      <td>XXX-002</td>\n      <td>ea</td>\n      <td>False</td>\n      <td>SHEET - 40/60 CLEAR 8 1/2 X 11 X .095 DO NOT USE</td>\n      <td>plastic</td>\n    </tr>\n    <tr>\n      <th>2</th>\n      <td>XXX-003</td>\n      <td>XXX-003</td>\n      <td>ea</td>\n      <td>False</td>\n      <td>SHEET - 40/60 CLEAR 8.5 X 11 7/8 X .09 (G23453)</td>\n      <td>plastic</td>\n    </tr>\n    <tr>\n      <th>3</th>\n      <td>XXX-004</td>\n      <td>XXX-004</td>\n      <td>ea</td>\n      <td>False</td>\n      <td>SHEET - 25 X 36.25 X .177 CLEAR DURAYL 40/60</td>\n      <td>plastic</td>\n    </tr>\n    <tr>\n      <th>4</th>\n      <td>XXX-005</td>\n      <td>XXX-005</td>\n      <td>ea</td>\n      <td>False</td>\n      <td>SHEET - 40/60 CLEAR 32 X 35 1/4 X .077 (OBSOLETE)</td>\n      <td>plastic</td>\n    </tr>\n  </tbody>\n</table>\n</div>"
     },
     "execution_count": 89,
     "metadata": {},
     "output_type": "execute_result"
    }
   ],
   "source": [
    "# Static fields & easily migrated\n",
    "data_new['PartNumber'] = data['PART NUMBER'].copy()\n",
    "data_new['ProductNumber'] = data['PART NUMBER'].copy()\n",
    "data_new['UOM'] = 'ea'\n",
    "data_new['Tracks-Expiration Date'] = False\n",
    "data_new['PartDescription'] = data['PART DESCRIPTION'].copy()\n",
    "data_new['ProductDescription'] = data['PART DESCRIPTION'].copy()\n",
    "data_new['PartDetails'] = data['Unnamed: 2'].copy()\n",
    "data_new_pr = data_new[['PartNumber', 'ProductNumber', 'UOM', 'Tracks-Expiration Date', 'PartDescription',\n",
    "                        'PartDetails']]\n",
    "data_new_pr.head()"
   ],
   "metadata": {
    "collapsed": false,
    "pycharm": {
     "name": "#%%\n"
    }
   }
  },
  {
   "cell_type": "markdown",
   "source": [
    "### Then data requiring more detailed parsing (processing of text):\n",
    "#### Active status\n",
    "Whether a product is marked as active (represented by a boolean value of either 'TRUE' or 'FALSE' in the table) is determined by if the product description contains any of the following keywords (lower or uppercase): do not use, obsolete, no longer use."
   ],
   "metadata": {
    "collapsed": false,
    "pycharm": {
     "name": "#%% md\n"
    }
   }
  },
  {
   "cell_type": "code",
   "execution_count": 90,
   "outputs": [
    {
     "data": {
      "text/plain": "  PartNumber                                    PartDescription Active  \\\n0    XXX-001                       SHEET - 40/60 8.5 X 11 X .15   TRUE   \n1    XXX-002   SHEET - 40/60 CLEAR 8 1/2 X 11 X .095 DO NOT USE  FALSE   \n2    XXX-003    SHEET - 40/60 CLEAR 8.5 X 11 7/8 X .09 (G23453)   TRUE   \n3    XXX-004       SHEET - 25 X 36.25 X .177 CLEAR DURAYL 40/60   TRUE   \n4    XXX-005  SHEET - 40/60 CLEAR 32 X 35 1/4 X .077 (OBSOLETE)  FALSE   \n\n  ProductActive  \n0          TRUE  \n1         FALSE  \n2          TRUE  \n3          TRUE  \n4         FALSE  ",
      "text/html": "<div>\n<style scoped>\n    .dataframe tbody tr th:only-of-type {\n        vertical-align: middle;\n    }\n\n    .dataframe tbody tr th {\n        vertical-align: top;\n    }\n\n    .dataframe thead th {\n        text-align: right;\n    }\n</style>\n<table border=\"1\" class=\"dataframe\">\n  <thead>\n    <tr style=\"text-align: right;\">\n      <th></th>\n      <th>PartNumber</th>\n      <th>PartDescription</th>\n      <th>Active</th>\n      <th>ProductActive</th>\n    </tr>\n  </thead>\n  <tbody>\n    <tr>\n      <th>0</th>\n      <td>XXX-001</td>\n      <td>SHEET - 40/60 8.5 X 11 X .15</td>\n      <td>TRUE</td>\n      <td>TRUE</td>\n    </tr>\n    <tr>\n      <th>1</th>\n      <td>XXX-002</td>\n      <td>SHEET - 40/60 CLEAR 8 1/2 X 11 X .095 DO NOT USE</td>\n      <td>FALSE</td>\n      <td>FALSE</td>\n    </tr>\n    <tr>\n      <th>2</th>\n      <td>XXX-003</td>\n      <td>SHEET - 40/60 CLEAR 8.5 X 11 7/8 X .09 (G23453)</td>\n      <td>TRUE</td>\n      <td>TRUE</td>\n    </tr>\n    <tr>\n      <th>3</th>\n      <td>XXX-004</td>\n      <td>SHEET - 25 X 36.25 X .177 CLEAR DURAYL 40/60</td>\n      <td>TRUE</td>\n      <td>TRUE</td>\n    </tr>\n    <tr>\n      <th>4</th>\n      <td>XXX-005</td>\n      <td>SHEET - 40/60 CLEAR 32 X 35 1/4 X .077 (OBSOLETE)</td>\n      <td>FALSE</td>\n      <td>FALSE</td>\n    </tr>\n  </tbody>\n</table>\n</div>"
     },
     "execution_count": 90,
     "metadata": {},
     "output_type": "execute_result"
    }
   ],
   "source": [
    "words_active = {'obsolete', 'do not use', 'no longer use'}\n",
    "\n",
    "# Set products' active status, based on if the part description contains 'obsolete' or 'do not use'.\n",
    "for index, row in data.iterrows():\n",
    "    if any(map(row['PART DESCRIPTION'].lower().__contains__, words_active)) or any(\n",
    "            map(str(row['Unnamed: 2']).lower().__contains__, words_active)):\n",
    "        data_new.loc[index, 'Active'] = 'FALSE'\n",
    "        data_new.loc[index, 'ProductActive'] = 'FALSE'\n",
    "    else:\n",
    "        data_new.loc[index, 'Active'] = 'TRUE'\n",
    "        data_new.loc[index, 'ProductActive'] = 'TRUE'\n",
    "\n",
    "data_new_active_pr = data_new[['PartNumber', 'PartDescription', 'Active', 'ProductActive']]\n",
    "data_new_active_pr.head()"
   ],
   "metadata": {
    "collapsed": false,
    "pycharm": {
     "name": "#%%\n"
    }
   }
  },
  {
   "cell_type": "markdown",
   "source": [
    "#### Cost of product\n",
    "The StdCost of the product is gathered from the total cost of each product listed in the spreadsheet (the 'TOTAL COST' column) containing product costs. Not every part number was listed in the cost data, which is why some costs are missing (or show up as 'NaN')."
   ],
   "metadata": {
    "collapsed": false,
    "pycharm": {
     "name": "#%% md\n"
    }
   }
  },
  {
   "cell_type": "code",
   "execution_count": 91,
   "outputs": [
    {
     "data": {
      "text/plain": "  PartNumber  StdCost\n0    XXX-001      NaN\n1    XXX-002      NaN\n2    XXX-003      NaN\n3    XXX-004  $20.21 \n4    XXX-005      NaN",
      "text/html": "<div>\n<style scoped>\n    .dataframe tbody tr th:only-of-type {\n        vertical-align: middle;\n    }\n\n    .dataframe tbody tr th {\n        vertical-align: top;\n    }\n\n    .dataframe thead th {\n        text-align: right;\n    }\n</style>\n<table border=\"1\" class=\"dataframe\">\n  <thead>\n    <tr style=\"text-align: right;\">\n      <th></th>\n      <th>PartNumber</th>\n      <th>StdCost</th>\n    </tr>\n  </thead>\n  <tbody>\n    <tr>\n      <th>0</th>\n      <td>XXX-001</td>\n      <td>NaN</td>\n    </tr>\n    <tr>\n      <th>1</th>\n      <td>XXX-002</td>\n      <td>NaN</td>\n    </tr>\n    <tr>\n      <th>2</th>\n      <td>XXX-003</td>\n      <td>NaN</td>\n    </tr>\n    <tr>\n      <th>3</th>\n      <td>XXX-004</td>\n      <td>$20.21</td>\n    </tr>\n    <tr>\n      <th>4</th>\n      <td>XXX-005</td>\n      <td>NaN</td>\n    </tr>\n  </tbody>\n</table>\n</div>"
     },
     "execution_count": 91,
     "metadata": {},
     "output_type": "execute_result"
    }
   ],
   "source": [
    "# Cost data\n",
    "c = {'cost': cost_data[' TOTAL COST '], 'part': cost_data['PART NUMBER']}\n",
    "costs = pd.DataFrame(data=c)\n",
    "data_incl_cost = pd.merge(data_new, costs, how=\"left\", left_on='PartNumber', right_on='part')\n",
    "data_incl_cost['StdCost'] = data_incl_cost['cost'].copy()\n",
    "data_incl_cost = data_incl_cost.drop(columns=['cost', 'part'])\n",
    "data_incl_cost_pr = data_incl_cost[['PartNumber', 'StdCost']]\n",
    "data_incl_cost_pr.head()"
   ],
   "metadata": {
    "collapsed": false,
    "pycharm": {
     "name": "#%%\n"
    }
   }
  },
  {
   "cell_type": "markdown",
   "source": [
    "#### Income, COGS, and asset accounts\n",
    "The various accounts are migrated to the new spreadsheet using a separate datasheet containing account info for various parts. Accounts are migrated to the new spreadsheet by matching rows based on part number.\n",
    "\n",
    "Additionally, some rows contain symbols not recognized. Those rows are cleaned prior to migration."
   ],
   "metadata": {
    "collapsed": false,
    "pycharm": {
     "name": "#%% md\n"
    }
   }
  },
  {
   "cell_type": "code",
   "execution_count": 92,
   "outputs": [
    {
     "data": {
      "text/plain": "  PartNumber                                       AssetAccount  \\\n0    XXX-001                                                NaN   \n1    XXX-002                                                NaN   \n2    XXX-003                                                NaN   \n3    XXX-004  INVENTORY ASSET:PLASTIC:3115.0  Windshields / ...   \n4    XXX-005                                                NaN   \n\n                                  COGSAccount  \\\n0                                         NaN   \n1                                         NaN   \n2                                         NaN   \n3  RM:PLASTIC:1005.0  Windshields / Tops COGS   \n4                                         NaN   \n\n                                    IncomeAccount  \n0                                             NaN  \n1                                             NaN  \n2                                             NaN  \n3  SALES:PLASTIC:5020.0  Windshields / Tops Sales  \n4                                             NaN  ",
      "text/html": "<div>\n<style scoped>\n    .dataframe tbody tr th:only-of-type {\n        vertical-align: middle;\n    }\n\n    .dataframe tbody tr th {\n        vertical-align: top;\n    }\n\n    .dataframe thead th {\n        text-align: right;\n    }\n</style>\n<table border=\"1\" class=\"dataframe\">\n  <thead>\n    <tr style=\"text-align: right;\">\n      <th></th>\n      <th>PartNumber</th>\n      <th>AssetAccount</th>\n      <th>COGSAccount</th>\n      <th>IncomeAccount</th>\n    </tr>\n  </thead>\n  <tbody>\n    <tr>\n      <th>0</th>\n      <td>XXX-001</td>\n      <td>NaN</td>\n      <td>NaN</td>\n      <td>NaN</td>\n    </tr>\n    <tr>\n      <th>1</th>\n      <td>XXX-002</td>\n      <td>NaN</td>\n      <td>NaN</td>\n      <td>NaN</td>\n    </tr>\n    <tr>\n      <th>2</th>\n      <td>XXX-003</td>\n      <td>NaN</td>\n      <td>NaN</td>\n      <td>NaN</td>\n    </tr>\n    <tr>\n      <th>3</th>\n      <td>XXX-004</td>\n      <td>INVENTORY ASSET:PLASTIC:3115.0  Windshields / ...</td>\n      <td>RM:PLASTIC:1005.0  Windshields / Tops COGS</td>\n      <td>SALES:PLASTIC:5020.0  Windshields / Tops Sales</td>\n    </tr>\n    <tr>\n      <th>4</th>\n      <td>XXX-005</td>\n      <td>NaN</td>\n      <td>NaN</td>\n      <td>NaN</td>\n    </tr>\n  </tbody>\n</table>\n</div>"
     },
     "execution_count": 92,
     "metadata": {},
     "output_type": "execute_result"
    }
   ],
   "source": [
    "import regex as re\n",
    "\n",
    "accounts_data = pd.read_csv('data/fake/Items and Services export_e.CSV', low_memory=False)\n",
    "cols = ['Account', 'COGS Account', 'Asset Account']\n",
    "accounts_data[cols] = accounts_data[cols].replace({'�':''}, regex=True)\n",
    "accounts_raw = {'part': accounts_data['Item'], 'account': accounts_data['Account'], 'cogs': accounts_data['COGS Account'],\n",
    "            'asset': accounts_data['Asset Account']}\n",
    "accounts = pd.DataFrame(data=accounts_raw)\n",
    "data_incl_cost = pd.merge(data_incl_cost, accounts, how=\"left\", left_on='PartNumber', right_on='part')\n",
    "data_incl_cost['AssetAccount'] = data_incl_cost['asset'].copy()\n",
    "data_incl_cost['COGSAccount'] = data_incl_cost['cogs'].copy()\n",
    "data_incl_cost['IncomeAccount'] = data_incl_cost['account'].copy()\n",
    "data_incl_cost = data_incl_cost.drop(columns=['asset', 'cogs', 'account'])\n",
    "data_incl_cost_acct_pr = data_incl_cost[['PartNumber', 'AssetAccount', 'COGSAccount', 'IncomeAccount']]\n",
    "data_incl_cost_acct_pr.head()"
   ],
   "metadata": {
    "collapsed": false,
    "pycharm": {
     "name": "#%%\n"
    }
   }
  },
  {
   "cell_type": "markdown",
   "source": [
    "#### PartTypeID\n",
    "The PartTypeID has two possible values:\n",
    "* '40': representing office supplies\n",
    "* '10': representing anything else\n",
    "\n",
    "Most parts in the inventory are not office supplies, so manually picking out office supply entries would be tedious. To separate any office supply entries, any row that contains office supply keywords, such as paper, staple, container, pencil, etc., are marked as an office supply, provided they are after part 204-084. Anything before that is marked with '10'.\n",
    "\n",
    "Below is a percentage and count of inventory that is made up by office supplies (as classified by this program), as a check for accuracy."
   ],
   "metadata": {
    "collapsed": false,
    "pycharm": {
     "name": "#%% md\n"
    }
   }
  },
  {
   "cell_type": "code",
   "execution_count": 93,
   "outputs": [
    {
     "name": "stdout",
     "output_type": "stream",
     "text": [
      "Percentage of inventory made up of office supplies: 0.0\n",
      "Marked as Office Supplies: 0\tTotal: 2468\n"
     ]
    }
   ],
   "source": [
    "supl = {'paper', 'staple', 'container', 'pencil', ' pen', 'marker', 'eraser', 'folder', 'notebook', 'stapler',\n",
    "        'scissors', 'envelope',}\n",
    "count = 0\n",
    "\n",
    "for index, row in data_incl_cost.iterrows():\n",
    "    if index < 7244:\n",
    "        data_incl_cost.loc[index, 'PartTypeID'] = '10'\n",
    "    elif any(map(row['ProductDescription'].lower().__contains__, supl)):\n",
    "        data_incl_cost.loc[index, 'PartTypeID'] = '40'\n",
    "        count += 1\n",
    "    else: data_incl_cost.loc[index, 'PartTypeID'] = '10'\n",
    "\n",
    "print(f'Percentage of inventory made up of office supplies: {count / len(data_incl_cost)}')\n",
    "print(f'Marked as Office Supplies: {count}\\tTotal: {len(data_incl_cost)}')"
   ],
   "metadata": {
    "collapsed": false,
    "pycharm": {
     "name": "#%%\n"
    }
   }
  },
  {
   "cell_type": "markdown",
   "source": [
    "#### VendorPartNumber\n",
    "VendorPartNumbers are obtained by parsing anything that exists in a set of parenthesis in each part description. In the case of there being multiple vendor part numbers, each additional vendor part number is appended to the first, separated by a comma.\n",
    "\n",
    "To determine whether text contained in parentheses (I'll refer to this as \"string in question\") is a vendor part number, the following conditions were used to exclude any string in question from being considered as a vendor part number:\n",
    "* length is less than 6\n",
    "* does not contain any numbers\n",
    "* contains a measurement, usually has any of the following: '\"' (double quotation mark), ' X ' (including space before and after), 'THICK'/'THK', 'LB', or  'COMPRESSION'\n",
    "* contains other specification, usually has: 'COLOR', 'DIE', or 'POLY'\n",
    "* contains a note, not a model number: 'INC', 'USE', 'REPLACE', or '2EA'\n",
    "* contains other words not associated with part numbers in the same string in question: 'CLUB', 'CUSHMAN', or 'DUROMETER'\n",
    "\n",
    "If the string failed to be excluded using those conditions, it is considered to be a vendor part number and is included in the appropriate cell.\n",
    "\n",
    "Additionally, text outside of parentheses was parsed. Any slashes were removed from the descriptions, then any text after \"PN\" was considered to be a part number, and were appended to the associated row under VendorPartNumber."
   ],
   "metadata": {
    "collapsed": false,
    "pycharm": {
     "name": "#%% md\n"
    }
   }
  },
  {
   "cell_type": "code",
   "execution_count": 94,
   "outputs": [
    {
     "data": {
      "text/plain": "  PartNumber                                    PartDescription  \\\n0    XXX-001                       SHEET - 40/60 8.5 X 11 X .15   \n1    XXX-002   SHEET - 40/60 CLEAR 8 1/2 X 11 X .095 DO NOT USE   \n2    XXX-003    SHEET - 40/60 CLEAR 8.5 X 11 7/8 X .09 (G23453)   \n3    XXX-004       SHEET - 25 X 36.25 X .177 CLEAR DURAYL 40/60   \n4    XXX-005  SHEET - 40/60 CLEAR 32 X 35 1/4 X .077 (OBSOLETE)   \n\n  VendorPartNumber  \n0                   \n1                   \n2           G23453  \n3                   \n4                   ",
      "text/html": "<div>\n<style scoped>\n    .dataframe tbody tr th:only-of-type {\n        vertical-align: middle;\n    }\n\n    .dataframe tbody tr th {\n        vertical-align: top;\n    }\n\n    .dataframe thead th {\n        text-align: right;\n    }\n</style>\n<table border=\"1\" class=\"dataframe\">\n  <thead>\n    <tr style=\"text-align: right;\">\n      <th></th>\n      <th>PartNumber</th>\n      <th>PartDescription</th>\n      <th>VendorPartNumber</th>\n    </tr>\n  </thead>\n  <tbody>\n    <tr>\n      <th>0</th>\n      <td>XXX-001</td>\n      <td>SHEET - 40/60 8.5 X 11 X .15</td>\n      <td></td>\n    </tr>\n    <tr>\n      <th>1</th>\n      <td>XXX-002</td>\n      <td>SHEET - 40/60 CLEAR 8 1/2 X 11 X .095 DO NOT USE</td>\n      <td></td>\n    </tr>\n    <tr>\n      <th>2</th>\n      <td>XXX-003</td>\n      <td>SHEET - 40/60 CLEAR 8.5 X 11 7/8 X .09 (G23453)</td>\n      <td>G23453</td>\n    </tr>\n    <tr>\n      <th>3</th>\n      <td>XXX-004</td>\n      <td>SHEET - 25 X 36.25 X .177 CLEAR DURAYL 40/60</td>\n      <td></td>\n    </tr>\n    <tr>\n      <th>4</th>\n      <td>XXX-005</td>\n      <td>SHEET - 40/60 CLEAR 32 X 35 1/4 X .077 (OBSOLETE)</td>\n      <td></td>\n    </tr>\n  </tbody>\n</table>\n</div>"
     },
     "execution_count": 94,
     "metadata": {},
     "output_type": "execute_result"
    }
   ],
   "source": [
    "# Definite exclusion keywords:\n",
    "words_docs = {'\"', ' X ', ' x ', 'COLOR', 'DIE', 'THICK', 'THK', 'POLY', 'INC', 'USE', 'CLUB', 'REPLACE', 'LB',\n",
    "              'CUSHMAN', 'COMPRESSION', 'DUROMETER', '2EA', 'INCLUDES'}\n",
    "\n",
    "for index, row in data_incl_cost.iterrows():\n",
    "    doc = None\n",
    "    data_incl_cost.loc[index, 'VendorPartNumber'] = ''\n",
    "    for string in re.findall('(\\(.*?\\))', row['ProductDescription']):\n",
    "        doc = re.sub('[(/)]', '', string)\n",
    "        if (len(doc) < 6) or (not (any(char.isdigit() for char in doc))) or re.search('\\dX\\d', doc) or (\n",
    "                any(map(doc.__contains__, words_docs))):\n",
    "            continue\n",
    "        if len(data_incl_cost.loc[index, 'VendorPartNumber']) > 1: data_incl_cost.loc[index, 'VendorPartNumber'] += ', '\n",
    "        data_incl_cost.loc[index, 'VendorPartNumber'] += doc\n",
    "\n",
    "    for string in re.findall(r'(.*?)\\(.*?\\)', row['ProductDescription']):\n",
    "        doc = re.sub('[(/)]', '', string)\n",
    "        if len(doc.split(\"PN\", 1)) > 1:\n",
    "            doc = doc.split(\"PN\", 1)[1]\n",
    "            data_incl_cost.loc[index, 'VendorPartNumber'] += ', '\n",
    "            data_incl_cost.loc[index, 'VendorPartNumber'] += doc\n",
    "\n",
    "vendor_pn_pr = data_incl_cost[['PartNumber', 'PartDescription', 'VendorPartNumber']]\n",
    "vendor_pn_pr.head()"
   ],
   "metadata": {
    "collapsed": false,
    "pycharm": {
     "name": "#%%\n"
    }
   }
  },
  {
   "cell_type": "markdown",
   "source": [
    "### Image File Paths\n",
    "File paths to part drawings for each part that isn't an office supply are needed in the PartURL column. To do so, '.dwg' is appended to the part number, appended to the directory where drawings are stored."
   ],
   "metadata": {
    "collapsed": false,
    "pycharm": {
     "name": "#%% md\n"
    }
   },
   "execution_count": 0
  },
  {
   "cell_type": "code",
   "execution_count": 95,
   "outputs": [
    {
     "data": {
      "text/plain": "  PartNumber PartTypeID                                    PartDescription  \\\n0    XXX-001         10                       SHEET - 40/60 8.5 X 11 X .15   \n1    XXX-002         10   SHEET - 40/60 CLEAR 8 1/2 X 11 X .095 DO NOT USE   \n2    XXX-003         10    SHEET - 40/60 CLEAR 8.5 X 11 7/8 X .09 (G23453)   \n3    XXX-004         10       SHEET - 25 X 36.25 X .177 CLEAR DURAYL 40/60   \n4    XXX-005         10  SHEET - 40/60 CLEAR 32 X 35 1/4 X .077 (OBSOLETE)   \n\n                                PartURL  \n0  F:/Current Part Drawings/XXX-001.dwg  \n1  F:/Current Part Drawings/XXX-002.dwg  \n2  F:/Current Part Drawings/XXX-003.dwg  \n3  F:/Current Part Drawings/XXX-004.dwg  \n4  F:/Current Part Drawings/XXX-005.dwg  ",
      "text/html": "<div>\n<style scoped>\n    .dataframe tbody tr th:only-of-type {\n        vertical-align: middle;\n    }\n\n    .dataframe tbody tr th {\n        vertical-align: top;\n    }\n\n    .dataframe thead th {\n        text-align: right;\n    }\n</style>\n<table border=\"1\" class=\"dataframe\">\n  <thead>\n    <tr style=\"text-align: right;\">\n      <th></th>\n      <th>PartNumber</th>\n      <th>PartTypeID</th>\n      <th>PartDescription</th>\n      <th>PartURL</th>\n    </tr>\n  </thead>\n  <tbody>\n    <tr>\n      <th>0</th>\n      <td>XXX-001</td>\n      <td>10</td>\n      <td>SHEET - 40/60 8.5 X 11 X .15</td>\n      <td>F:/Current Part Drawings/XXX-001.dwg</td>\n    </tr>\n    <tr>\n      <th>1</th>\n      <td>XXX-002</td>\n      <td>10</td>\n      <td>SHEET - 40/60 CLEAR 8 1/2 X 11 X .095 DO NOT USE</td>\n      <td>F:/Current Part Drawings/XXX-002.dwg</td>\n    </tr>\n    <tr>\n      <th>2</th>\n      <td>XXX-003</td>\n      <td>10</td>\n      <td>SHEET - 40/60 CLEAR 8.5 X 11 7/8 X .09 (G23453)</td>\n      <td>F:/Current Part Drawings/XXX-003.dwg</td>\n    </tr>\n    <tr>\n      <th>3</th>\n      <td>XXX-004</td>\n      <td>10</td>\n      <td>SHEET - 25 X 36.25 X .177 CLEAR DURAYL 40/60</td>\n      <td>F:/Current Part Drawings/XXX-004.dwg</td>\n    </tr>\n    <tr>\n      <th>4</th>\n      <td>XXX-005</td>\n      <td>10</td>\n      <td>SHEET - 40/60 CLEAR 32 X 35 1/4 X .077 (OBSOLETE)</td>\n      <td>F:/Current Part Drawings/XXX-005.dwg</td>\n    </tr>\n  </tbody>\n</table>\n</div>"
     },
     "execution_count": 95,
     "metadata": {},
     "output_type": "execute_result"
    }
   ],
   "source": [
    "for index, row in data_incl_cost.iterrows():\n",
    "    if row['PartTypeID'] == '10': data_incl_cost.loc[\n",
    "        index, 'PartURL'] = rf\"F:/Current Part Drawings/{row['PartNumber']}.dwg\"\n",
    "\n",
    "filepath_pr = data_incl_cost[['PartNumber', 'PartTypeID', 'PartDescription', 'PartURL']]\n",
    "filepath_pr.head()"
   ],
   "metadata": {
    "collapsed": false,
    "pycharm": {
     "name": "#%%\n"
    }
   }
  },
  {
   "cell_type": "markdown",
   "source": [
    "### Export to CSV\n",
    "The exported CSV in its final format is not available to the public for confidentiality."
   ],
   "metadata": {
    "collapsed": false,
    "pycharm": {
     "name": "#%% md\n"
    }
   }
  },
  {
   "cell_type": "code",
   "execution_count": 96,
   "outputs": [
    {
     "name": "stdout",
     "output_type": "stream",
     "text": [
      "Table exported to PPVendorPricing_transformed.csv\n"
     ]
    }
   ],
   "source": [
    "# Output file name\n",
    "filename = 'PPVendorPricing_transformed.csv'\n",
    "\n",
    "data_incl_cost.to_csv(filename, index=False)\n",
    "print(f'Table exported to {filename}')"
   ],
   "metadata": {
    "collapsed": false,
    "pycharm": {
     "name": "#%%\n"
    }
   }
  }
 ],
 "metadata": {
  "kernelspec": {
   "display_name": "Python 3",
   "language": "python",
   "name": "python3"
  },
  "language_info": {
   "codemirror_mode": {
    "name": "ipython",
    "version": 2
   },
   "file_extension": ".py",
   "mimetype": "text/x-python",
   "name": "python",
   "nbconvert_exporter": "python",
   "pygments_lexer": "ipython2",
   "version": "2.7.6"
  }
 },
 "nbformat": 4,
 "nbformat_minor": 0
}